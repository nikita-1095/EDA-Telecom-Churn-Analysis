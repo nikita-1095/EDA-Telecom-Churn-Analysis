{
  "nbformat": 4,
  "nbformat_minor": 0,
  "metadata": {
    "kernelspec": {
      "display_name": "Python 3",
      "language": "python",
      "name": "python3"
    },
    "language_info": {
      "codemirror_mode": {
        "name": "ipython",
        "version": 3
      },
      "file_extension": ".py",
      "mimetype": "text/x-python",
      "name": "python",
      "nbconvert_exporter": "python",
      "pygments_lexer": "ipython3",
      "version": "3.6.6"
    },
    "colab": {
      "provenance": [],
      "collapsed_sections": [],
      "include_colab_link": true
    }
  },
  "cells": [
    {
      "cell_type": "markdown",
      "metadata": {
        "id": "view-in-github",
        "colab_type": "text"
      },
      "source": [
        "<a href=\"https://colab.research.google.com/github/nikita-1095/EDA-Telecom-Churn-Analysis/blob/main/Final__team_collabTelecom_Churn_Analysis_Capstone_Project.ipynb\" target=\"_parent\"><img src=\"https://colab.research.google.com/assets/colab-badge.svg\" alt=\"Open In Colab\"/></a>"
      ]
    },
    {
      "cell_type": "markdown",
      "metadata": {
        "id": "Y06xIdG26kRF"
      },
      "source": [
        "## <b> Orange S.A., formerly France Télécom S.A., is a French multinational telecommunications corporation. The Orange Telecom's Churn Dataset, consists of cleaned customer activity data (features), along with a churn label specifying whether a customer canceled the subscription.\n",
        "\n",
        "## <b> Explore and analyze the data to discover key factors responsible for customer churn and come up with ways/recommendations to ensure customer retention. </b>"
      ]
    },
    {
      "cell_type": "markdown",
      "source": [
        "Churn is a problem in Telecom Companies as it is more expensive to acquire a new customer than to keep your existing one from leaving.Customer churn prediction detects customers who are likely to cancel a subscription to a service.\n",
        "\n",
        "By analyzing this dataset,we will try to conjecture the factors which affect the customer churn.\n",
        "\n",
        "Now ,lets play with the numbers in dataset:"
      ],
      "metadata": {
        "id": "05p3Nw6WN2QM"
      }
    },
    {
      "cell_type": "code",
      "metadata": {
        "id": "dByMsuzT8Tnw"
      },
      "source": [
        "import pandas as pd\n",
        "import numpy as np\n",
        "import seaborn as sns\n",
        "import matplotlib.pyplot as plt\n",
        "import random"
      ],
      "execution_count": 1,
      "outputs": []
    },
    {
      "cell_type": "code",
      "source": [
        "from google.colab import drive\n",
        "drive.mount('/content/drive')"
      ],
      "metadata": {
        "colab": {
          "base_uri": "https://localhost:8080/"
        },
        "id": "H9Ye-nUvfky5",
        "outputId": "099bc23f-fd67-4ca9-d89b-ae92fc0a8e91"
      },
      "execution_count": 4,
      "outputs": [
        {
          "output_type": "stream",
          "name": "stdout",
          "text": [
            "Drive already mounted at /content/drive; to attempt to forcibly remount, call drive.mount(\"/content/drive\", force_remount=True).\n"
          ]
        }
      ]
    },
    {
      "cell_type": "code",
      "source": [
        "df = pd.read_csv(\"/content/drive/MyDrive/Almabetter/capstone_project-1/Telecom Churn.csv\",engine='python')\n",
        "df.head()"
      ],
      "metadata": {
        "colab": {
          "base_uri": "https://localhost:8080/",
          "height": 328
        },
        "id": "jSBIZyChfqeq",
        "outputId": "71dff001-b290-4838-9afb-e45f7bd37b62"
      },
      "execution_count": 6,
      "outputs": [
        {
          "output_type": "error",
          "ename": "FileNotFoundError",
          "evalue": "ignored",
          "traceback": [
            "\u001b[0;31m---------------------------------------------------------------------------\u001b[0m",
            "\u001b[0;31mFileNotFoundError\u001b[0m                         Traceback (most recent call last)",
            "\u001b[0;32m<ipython-input-6-e608b13ec383>\u001b[0m in \u001b[0;36m<module>\u001b[0;34m\u001b[0m\n\u001b[0;32m----> 1\u001b[0;31m \u001b[0mdf\u001b[0m \u001b[0;34m=\u001b[0m \u001b[0mpd\u001b[0m\u001b[0;34m.\u001b[0m\u001b[0mread_csv\u001b[0m\u001b[0;34m(\u001b[0m\u001b[0;34m\"/content/drive/MyDrive/Almabetter/capstone_project-1/Telecom Churn.csv\"\u001b[0m\u001b[0;34m,\u001b[0m\u001b[0mengine\u001b[0m\u001b[0;34m=\u001b[0m\u001b[0;34m'python'\u001b[0m\u001b[0;34m)\u001b[0m\u001b[0;34m\u001b[0m\u001b[0;34m\u001b[0m\u001b[0m\n\u001b[0m\u001b[1;32m      2\u001b[0m \u001b[0mdf\u001b[0m\u001b[0;34m.\u001b[0m\u001b[0mhead\u001b[0m\u001b[0;34m(\u001b[0m\u001b[0;34m)\u001b[0m\u001b[0;34m\u001b[0m\u001b[0;34m\u001b[0m\u001b[0m\n",
            "\u001b[0;32m/usr/local/lib/python3.7/dist-packages/pandas/util/_decorators.py\u001b[0m in \u001b[0;36mwrapper\u001b[0;34m(*args, **kwargs)\u001b[0m\n\u001b[1;32m    309\u001b[0m                     \u001b[0mstacklevel\u001b[0m\u001b[0;34m=\u001b[0m\u001b[0mstacklevel\u001b[0m\u001b[0;34m,\u001b[0m\u001b[0;34m\u001b[0m\u001b[0;34m\u001b[0m\u001b[0m\n\u001b[1;32m    310\u001b[0m                 )\n\u001b[0;32m--> 311\u001b[0;31m             \u001b[0;32mreturn\u001b[0m \u001b[0mfunc\u001b[0m\u001b[0;34m(\u001b[0m\u001b[0;34m*\u001b[0m\u001b[0margs\u001b[0m\u001b[0;34m,\u001b[0m \u001b[0;34m**\u001b[0m\u001b[0mkwargs\u001b[0m\u001b[0;34m)\u001b[0m\u001b[0;34m\u001b[0m\u001b[0;34m\u001b[0m\u001b[0m\n\u001b[0m\u001b[1;32m    312\u001b[0m \u001b[0;34m\u001b[0m\u001b[0m\n\u001b[1;32m    313\u001b[0m         \u001b[0;32mreturn\u001b[0m \u001b[0mwrapper\u001b[0m\u001b[0;34m\u001b[0m\u001b[0;34m\u001b[0m\u001b[0m\n",
            "\u001b[0;32m/usr/local/lib/python3.7/dist-packages/pandas/io/parsers/readers.py\u001b[0m in \u001b[0;36mread_csv\u001b[0;34m(filepath_or_buffer, sep, delimiter, header, names, index_col, usecols, squeeze, prefix, mangle_dupe_cols, dtype, engine, converters, true_values, false_values, skipinitialspace, skiprows, skipfooter, nrows, na_values, keep_default_na, na_filter, verbose, skip_blank_lines, parse_dates, infer_datetime_format, keep_date_col, date_parser, dayfirst, cache_dates, iterator, chunksize, compression, thousands, decimal, lineterminator, quotechar, quoting, doublequote, escapechar, comment, encoding, encoding_errors, dialect, error_bad_lines, warn_bad_lines, on_bad_lines, delim_whitespace, low_memory, memory_map, float_precision, storage_options)\u001b[0m\n\u001b[1;32m    584\u001b[0m     \u001b[0mkwds\u001b[0m\u001b[0;34m.\u001b[0m\u001b[0mupdate\u001b[0m\u001b[0;34m(\u001b[0m\u001b[0mkwds_defaults\u001b[0m\u001b[0;34m)\u001b[0m\u001b[0;34m\u001b[0m\u001b[0;34m\u001b[0m\u001b[0m\n\u001b[1;32m    585\u001b[0m \u001b[0;34m\u001b[0m\u001b[0m\n\u001b[0;32m--> 586\u001b[0;31m     \u001b[0;32mreturn\u001b[0m \u001b[0m_read\u001b[0m\u001b[0;34m(\u001b[0m\u001b[0mfilepath_or_buffer\u001b[0m\u001b[0;34m,\u001b[0m \u001b[0mkwds\u001b[0m\u001b[0;34m)\u001b[0m\u001b[0;34m\u001b[0m\u001b[0;34m\u001b[0m\u001b[0m\n\u001b[0m\u001b[1;32m    587\u001b[0m \u001b[0;34m\u001b[0m\u001b[0m\n\u001b[1;32m    588\u001b[0m \u001b[0;34m\u001b[0m\u001b[0m\n",
            "\u001b[0;32m/usr/local/lib/python3.7/dist-packages/pandas/io/parsers/readers.py\u001b[0m in \u001b[0;36m_read\u001b[0;34m(filepath_or_buffer, kwds)\u001b[0m\n\u001b[1;32m    480\u001b[0m \u001b[0;34m\u001b[0m\u001b[0m\n\u001b[1;32m    481\u001b[0m     \u001b[0;31m# Create the parser.\u001b[0m\u001b[0;34m\u001b[0m\u001b[0;34m\u001b[0m\u001b[0;34m\u001b[0m\u001b[0m\n\u001b[0;32m--> 482\u001b[0;31m     \u001b[0mparser\u001b[0m \u001b[0;34m=\u001b[0m \u001b[0mTextFileReader\u001b[0m\u001b[0;34m(\u001b[0m\u001b[0mfilepath_or_buffer\u001b[0m\u001b[0;34m,\u001b[0m \u001b[0;34m**\u001b[0m\u001b[0mkwds\u001b[0m\u001b[0;34m)\u001b[0m\u001b[0;34m\u001b[0m\u001b[0;34m\u001b[0m\u001b[0m\n\u001b[0m\u001b[1;32m    483\u001b[0m \u001b[0;34m\u001b[0m\u001b[0m\n\u001b[1;32m    484\u001b[0m     \u001b[0;32mif\u001b[0m \u001b[0mchunksize\u001b[0m \u001b[0;32mor\u001b[0m \u001b[0miterator\u001b[0m\u001b[0;34m:\u001b[0m\u001b[0;34m\u001b[0m\u001b[0;34m\u001b[0m\u001b[0m\n",
            "\u001b[0;32m/usr/local/lib/python3.7/dist-packages/pandas/io/parsers/readers.py\u001b[0m in \u001b[0;36m__init__\u001b[0;34m(self, f, engine, **kwds)\u001b[0m\n\u001b[1;32m    809\u001b[0m             \u001b[0mself\u001b[0m\u001b[0;34m.\u001b[0m\u001b[0moptions\u001b[0m\u001b[0;34m[\u001b[0m\u001b[0;34m\"has_index_names\"\u001b[0m\u001b[0;34m]\u001b[0m \u001b[0;34m=\u001b[0m \u001b[0mkwds\u001b[0m\u001b[0;34m[\u001b[0m\u001b[0;34m\"has_index_names\"\u001b[0m\u001b[0;34m]\u001b[0m\u001b[0;34m\u001b[0m\u001b[0;34m\u001b[0m\u001b[0m\n\u001b[1;32m    810\u001b[0m \u001b[0;34m\u001b[0m\u001b[0m\n\u001b[0;32m--> 811\u001b[0;31m         \u001b[0mself\u001b[0m\u001b[0;34m.\u001b[0m\u001b[0m_engine\u001b[0m \u001b[0;34m=\u001b[0m \u001b[0mself\u001b[0m\u001b[0;34m.\u001b[0m\u001b[0m_make_engine\u001b[0m\u001b[0;34m(\u001b[0m\u001b[0mself\u001b[0m\u001b[0;34m.\u001b[0m\u001b[0mengine\u001b[0m\u001b[0;34m)\u001b[0m\u001b[0;34m\u001b[0m\u001b[0;34m\u001b[0m\u001b[0m\n\u001b[0m\u001b[1;32m    812\u001b[0m \u001b[0;34m\u001b[0m\u001b[0m\n\u001b[1;32m    813\u001b[0m     \u001b[0;32mdef\u001b[0m \u001b[0mclose\u001b[0m\u001b[0;34m(\u001b[0m\u001b[0mself\u001b[0m\u001b[0;34m)\u001b[0m\u001b[0;34m:\u001b[0m\u001b[0;34m\u001b[0m\u001b[0;34m\u001b[0m\u001b[0m\n",
            "\u001b[0;32m/usr/local/lib/python3.7/dist-packages/pandas/io/parsers/readers.py\u001b[0m in \u001b[0;36m_make_engine\u001b[0;34m(self, engine)\u001b[0m\n\u001b[1;32m   1038\u001b[0m             )\n\u001b[1;32m   1039\u001b[0m         \u001b[0;31m# error: Too many arguments for \"ParserBase\"\u001b[0m\u001b[0;34m\u001b[0m\u001b[0;34m\u001b[0m\u001b[0;34m\u001b[0m\u001b[0m\n\u001b[0;32m-> 1040\u001b[0;31m         \u001b[0;32mreturn\u001b[0m \u001b[0mmapping\u001b[0m\u001b[0;34m[\u001b[0m\u001b[0mengine\u001b[0m\u001b[0;34m]\u001b[0m\u001b[0;34m(\u001b[0m\u001b[0mself\u001b[0m\u001b[0;34m.\u001b[0m\u001b[0mf\u001b[0m\u001b[0;34m,\u001b[0m \u001b[0;34m**\u001b[0m\u001b[0mself\u001b[0m\u001b[0;34m.\u001b[0m\u001b[0moptions\u001b[0m\u001b[0;34m)\u001b[0m  \u001b[0;31m# type: ignore[call-arg]\u001b[0m\u001b[0;34m\u001b[0m\u001b[0;34m\u001b[0m\u001b[0m\n\u001b[0m\u001b[1;32m   1041\u001b[0m \u001b[0;34m\u001b[0m\u001b[0m\n\u001b[1;32m   1042\u001b[0m     \u001b[0;32mdef\u001b[0m \u001b[0m_failover_to_python\u001b[0m\u001b[0;34m(\u001b[0m\u001b[0mself\u001b[0m\u001b[0;34m)\u001b[0m\u001b[0;34m:\u001b[0m\u001b[0;34m\u001b[0m\u001b[0;34m\u001b[0m\u001b[0m\n",
            "\u001b[0;32m/usr/local/lib/python3.7/dist-packages/pandas/io/parsers/python_parser.py\u001b[0m in \u001b[0;36m__init__\u001b[0;34m(self, f, **kwds)\u001b[0m\n\u001b[1;32m     94\u001b[0m             \u001b[0mself\u001b[0m\u001b[0;34m.\u001b[0m\u001b[0mdata\u001b[0m \u001b[0;34m=\u001b[0m \u001b[0mcast\u001b[0m\u001b[0;34m(\u001b[0m\u001b[0mIterator\u001b[0m\u001b[0;34m[\u001b[0m\u001b[0mstr\u001b[0m\u001b[0;34m]\u001b[0m\u001b[0;34m,\u001b[0m \u001b[0mf\u001b[0m\u001b[0;34m)\u001b[0m\u001b[0;34m\u001b[0m\u001b[0;34m\u001b[0m\u001b[0m\n\u001b[1;32m     95\u001b[0m         \u001b[0;32melse\u001b[0m\u001b[0;34m:\u001b[0m\u001b[0;34m\u001b[0m\u001b[0;34m\u001b[0m\u001b[0m\n\u001b[0;32m---> 96\u001b[0;31m             \u001b[0mself\u001b[0m\u001b[0;34m.\u001b[0m\u001b[0m_open_handles\u001b[0m\u001b[0;34m(\u001b[0m\u001b[0mf\u001b[0m\u001b[0;34m,\u001b[0m \u001b[0mkwds\u001b[0m\u001b[0;34m)\u001b[0m\u001b[0;34m\u001b[0m\u001b[0;34m\u001b[0m\u001b[0m\n\u001b[0m\u001b[1;32m     97\u001b[0m             \u001b[0;32massert\u001b[0m \u001b[0mself\u001b[0m\u001b[0;34m.\u001b[0m\u001b[0mhandles\u001b[0m \u001b[0;32mis\u001b[0m \u001b[0;32mnot\u001b[0m \u001b[0;32mNone\u001b[0m\u001b[0;34m\u001b[0m\u001b[0;34m\u001b[0m\u001b[0m\n\u001b[1;32m     98\u001b[0m             \u001b[0;32massert\u001b[0m \u001b[0mhasattr\u001b[0m\u001b[0;34m(\u001b[0m\u001b[0mself\u001b[0m\u001b[0;34m.\u001b[0m\u001b[0mhandles\u001b[0m\u001b[0;34m.\u001b[0m\u001b[0mhandle\u001b[0m\u001b[0;34m,\u001b[0m \u001b[0;34m\"readline\"\u001b[0m\u001b[0;34m)\u001b[0m\u001b[0;34m\u001b[0m\u001b[0;34m\u001b[0m\u001b[0m\n",
            "\u001b[0;32m/usr/local/lib/python3.7/dist-packages/pandas/io/parsers/base_parser.py\u001b[0m in \u001b[0;36m_open_handles\u001b[0;34m(self, src, kwds)\u001b[0m\n\u001b[1;32m    227\u001b[0m             \u001b[0mmemory_map\u001b[0m\u001b[0;34m=\u001b[0m\u001b[0mkwds\u001b[0m\u001b[0;34m.\u001b[0m\u001b[0mget\u001b[0m\u001b[0;34m(\u001b[0m\u001b[0;34m\"memory_map\"\u001b[0m\u001b[0;34m,\u001b[0m \u001b[0;32mFalse\u001b[0m\u001b[0;34m)\u001b[0m\u001b[0;34m,\u001b[0m\u001b[0;34m\u001b[0m\u001b[0;34m\u001b[0m\u001b[0m\n\u001b[1;32m    228\u001b[0m             \u001b[0mstorage_options\u001b[0m\u001b[0;34m=\u001b[0m\u001b[0mkwds\u001b[0m\u001b[0;34m.\u001b[0m\u001b[0mget\u001b[0m\u001b[0;34m(\u001b[0m\u001b[0;34m\"storage_options\"\u001b[0m\u001b[0;34m,\u001b[0m \u001b[0;32mNone\u001b[0m\u001b[0;34m)\u001b[0m\u001b[0;34m,\u001b[0m\u001b[0;34m\u001b[0m\u001b[0;34m\u001b[0m\u001b[0m\n\u001b[0;32m--> 229\u001b[0;31m             \u001b[0merrors\u001b[0m\u001b[0;34m=\u001b[0m\u001b[0mkwds\u001b[0m\u001b[0;34m.\u001b[0m\u001b[0mget\u001b[0m\u001b[0;34m(\u001b[0m\u001b[0;34m\"encoding_errors\"\u001b[0m\u001b[0;34m,\u001b[0m \u001b[0;34m\"strict\"\u001b[0m\u001b[0;34m)\u001b[0m\u001b[0;34m,\u001b[0m\u001b[0;34m\u001b[0m\u001b[0;34m\u001b[0m\u001b[0m\n\u001b[0m\u001b[1;32m    230\u001b[0m         )\n\u001b[1;32m    231\u001b[0m \u001b[0;34m\u001b[0m\u001b[0m\n",
            "\u001b[0;32m/usr/local/lib/python3.7/dist-packages/pandas/io/common.py\u001b[0m in \u001b[0;36mget_handle\u001b[0;34m(path_or_buf, mode, encoding, compression, memory_map, is_text, errors, storage_options)\u001b[0m\n\u001b[1;32m    705\u001b[0m                 \u001b[0mencoding\u001b[0m\u001b[0;34m=\u001b[0m\u001b[0mioargs\u001b[0m\u001b[0;34m.\u001b[0m\u001b[0mencoding\u001b[0m\u001b[0;34m,\u001b[0m\u001b[0;34m\u001b[0m\u001b[0;34m\u001b[0m\u001b[0m\n\u001b[1;32m    706\u001b[0m                 \u001b[0merrors\u001b[0m\u001b[0;34m=\u001b[0m\u001b[0merrors\u001b[0m\u001b[0;34m,\u001b[0m\u001b[0;34m\u001b[0m\u001b[0;34m\u001b[0m\u001b[0m\n\u001b[0;32m--> 707\u001b[0;31m                 \u001b[0mnewline\u001b[0m\u001b[0;34m=\u001b[0m\u001b[0;34m\"\"\u001b[0m\u001b[0;34m,\u001b[0m\u001b[0;34m\u001b[0m\u001b[0;34m\u001b[0m\u001b[0m\n\u001b[0m\u001b[1;32m    708\u001b[0m             )\n\u001b[1;32m    709\u001b[0m         \u001b[0;32melse\u001b[0m\u001b[0;34m:\u001b[0m\u001b[0;34m\u001b[0m\u001b[0;34m\u001b[0m\u001b[0m\n",
            "\u001b[0;31mFileNotFoundError\u001b[0m: [Errno 2] No such file or directory: '/content/drive/MyDrive/Almabetter/capstone_project-1/Telecom Churn.csv'"
          ]
        }
      ]
    },
    {
      "cell_type": "code",
      "source": [
        "#Display randomly selected 5 rows of the dataset\n",
        "df.sample(5)"
      ],
      "metadata": {
        "id": "UfPOAOQVgbuD"
      },
      "execution_count": null,
      "outputs": []
    },
    {
      "cell_type": "code",
      "source": [
        "print(\"data has\",df.shape[0],\" rows and \", df.shape[1], \"columns\")\n",
        "print(\"-\"*50)\n",
        "print(df.info())"
      ],
      "metadata": {
        "id": "OKF0s0DKiQqa"
      },
      "execution_count": null,
      "outputs": []
    },
    {
      "cell_type": "markdown",
      "source": [
        "Churn column is the target variable which of boolean type. Apart from that, 3 object type features, 8 float and 8 int type features are present in the dataset."
      ],
      "metadata": {
        "id": "gY8_Xy69QW1c"
      }
    },
    {
      "cell_type": "markdown",
      "source": [
        "lets checks the null values in datasets."
      ],
      "metadata": {
        "id": "nkZ8WTFmRHDg"
      }
    },
    {
      "cell_type": "code",
      "source": [
        "df.isna().sum()"
      ],
      "metadata": {
        "id": "OzEmhJ4PRZag"
      },
      "execution_count": null,
      "outputs": []
    },
    {
      "cell_type": "markdown",
      "source": [
        "there is no null values in the dataset."
      ],
      "metadata": {
        "id": "a43DA-bFRklM"
      }
    },
    {
      "cell_type": "code",
      "source": [
        "# create the categorial columns \n",
        "categorial1=df.select_dtypes(include=['object'])\n",
        "categorial1.head()"
      ],
      "metadata": {
        "id": "N2oNbKwBayV6"
      },
      "execution_count": null,
      "outputs": []
    },
    {
      "cell_type": "code",
      "source": [
        "#create for loop to print distinct values from the columns\n",
        "for col in categorial1:\n",
        "   print(f'Distinct values in categorial columns {col} are:{categorial1[col].unique()}')"
      ],
      "metadata": {
        "id": "ojxKTUbjai1y"
      },
      "execution_count": null,
      "outputs": []
    },
    {
      "cell_type": "code",
      "source": [
        "#duplicate rows \n",
        "plt.figure(figsize=(6,4))\n",
        "sns.countplot(x=df.duplicated(),palette='rocket')\n",
        "plt.xlabel('duplicate rows')\n",
        "plt.ylabel('count')\n",
        "plt.title('duplicate rows in dataset')"
      ],
      "metadata": {
        "id": "60b60IwDbA0x"
      },
      "execution_count": null,
      "outputs": []
    },
    {
      "cell_type": "code",
      "source": [
        "df['Churn'].value_counts()"
      ],
      "metadata": {
        "id": "xzOwuMW43jwF"
      },
      "execution_count": null,
      "outputs": []
    },
    {
      "cell_type": "markdown",
      "source": [
        "**question-** Lets find out the churn rate of the company."
      ],
      "metadata": {
        "id": "C4esYJCXMC3f"
      }
    },
    {
      "cell_type": "code",
      "source": [
        "sns.countplot(data=df,x='Churn')"
      ],
      "metadata": {
        "id": "ACSDqrQyMZFn"
      },
      "execution_count": null,
      "outputs": []
    },
    {
      "cell_type": "code",
      "source": [
        "comp_churn_rate = df['Churn'].value_counts()[1]*100/df.shape[0]\n",
        "print(\"The churn for the company is :\", comp_churn_rate,\"%\")"
      ],
      "metadata": {
        "id": "3vp34fd1L-4e"
      },
      "execution_count": null,
      "outputs": []
    },
    {
      "cell_type": "markdown",
      "source": [
        "Churn rate is defined as the ratio of total customer lost during the period to the total customer at the beginning."
      ],
      "metadata": {
        "id": "96XhDdmPOzUT"
      }
    },
    {
      "cell_type": "markdown",
      "source": [
        "**question-** find out the relationship between the catogrical features and the churn rate. Identify which catogory has maximum churn value?"
      ],
      "metadata": {
        "id": "0w8nLzAX6g52"
      }
    },
    {
      "cell_type": "code",
      "source": [
        "print(df['State'].unique())\n",
        "print('Total number of unique states are',df['State'].unique().shape[0])\n",
        "print(\"*\"*50)\n",
        "#print(df_cat['International plan'].unique())\n",
        "print(\"*\"*50)\n",
        "print(df['Voice mail plan'].unique())\n",
        "print(\"*\"*50)\n",
        "print(df['Area code'].unique())"
      ],
      "metadata": {
        "id": "wLGMGPS4swG4"
      },
      "execution_count": null,
      "outputs": []
    },
    {
      "cell_type": "markdown",
      "source": [
        "All 3 object features are of catogorical type\n",
        "<br> - States have 51 unique states name\n",
        "<br> - International plan - catogorical feature of 2 catogory, either customer has activated international plan or not.\n",
        "<br> - Voice mail plan - catogorical feature of 2 catogory, either customer has activated Voice maill plan or not \n",
        "<br> - Area code has total 3 catogory"
      ],
      "metadata": {
        "id": "6Tpo1SFetSFU"
      }
    },
    {
      "cell_type": "code",
      "source": [
        "def histogram_for_pop(df):\n",
        "  plt.style.use(\"fivethirtyeight\")\n",
        "  plt.figure(figsize= (20,22))\n",
        "  color_ = [ '#9D2417', '#AF41B4', '#003389' ,'#3C5F41',  '#967032', '#2734DE'] \n",
        "  for i,col in enumerate(df.columns):\n",
        "    rand_col = color_[random.sample(range(6), 1)[0]]\n",
        "    plt.subplot(8,3, i+1)\n",
        "    sns.countplot(data=df,x=df[col], color = rand_col, fill = rand_col)\n",
        "    plt.title(col, color = 'black')\n",
        "    plt.ylabel(\" \")\n",
        "    plt.xlabel(\" \")\n",
        "    plt.tight_layout()\n",
        "def count_cat_feature(df,col):\n",
        "  df1 = df[col].value_counts().reset_index()\n",
        "  return df1.rename(columns={df1.columns[0]:col,df1.columns[1]:\"count\"})\n"
      ],
      "metadata": {
        "id": "i1JiVG3Qv3Ia"
      },
      "execution_count": null,
      "outputs": []
    },
    {
      "cell_type": "code",
      "source": [
        "# For total customer\n",
        "df_cat = df[['Area code', 'International plan','Voice mail plan']]\n",
        "histogram_for_pop(df_cat)\n",
        "\n",
        "Area_code_df = count_cat_feature(df_cat,col=\"Area code\")\n",
        "int_plan_df = count_cat_feature(df_cat,col=\"International plan\")\n",
        "v_m_p_df = count_cat_feature(df_cat,col=\"Voice mail plan\")\n",
        "\n",
        "print(Area_code_df)\n",
        "print(\"-\"*50)\n",
        "print(int_plan_df)\n",
        "print(\"-\"*50)\n",
        "print(v_m_p_df)\n",
        "\n",
        "\n",
        "\n",
        "##print(\"-\"*100)\n",
        "##print(data[\"International plan\"].value_counts())\n",
        "#print(\"-\"*100)\n",
        "#print(data[\"Voice mail plan\"].value_counts())\n"
      ],
      "metadata": {
        "id": "Od93FE9LmpbV"
      },
      "execution_count": null,
      "outputs": []
    },
    {
      "cell_type": "markdown",
      "source": [
        "The above analysis is done for all the customer present."
      ],
      "metadata": {
        "id": "zbhDamsotUDz"
      }
    },
    {
      "cell_type": "markdown",
      "source": [
        "Lets try and identify the churn values for different catogorical feature."
      ],
      "metadata": {
        "id": "iRrZ3dWjtfB0"
      }
    },
    {
      "cell_type": "code",
      "source": [
        "# for whom the churn value is true\n",
        "data_churn = df[df['Churn']==True]\n",
        "data_churn_count = data_churn[['Area code', 'International plan','Voice mail plan']]\n",
        "\n",
        "histogram_for_pop(data_churn_count)\n",
        "\n",
        "Area_code_churn = count_cat_feature(data_churn_count,col=\"Area code\")\n",
        "int_plan_churn = count_cat_feature(data_churn_count,col=\"International plan\")\n",
        "v_m_p_churn = count_cat_feature(data_churn_count,col=\"Voice mail plan\")\n",
        "\n",
        "print(Area_code_churn)\n",
        "print(\"-\"*50)\n",
        "print(int_plan_churn)\n",
        "print(\"-\"*50)\n",
        "print(v_m_p_churn)\n"
      ],
      "metadata": {
        "id": "cxyjUqI9tTBJ"
      },
      "execution_count": null,
      "outputs": []
    },
    {
      "cell_type": "code",
      "source": [
        "# lets calculate churn rate for each cotegory Churn_rate = churn value / total count\n",
        "def churn_rate(total_df,churn_df):\n",
        "  return churn_df['count']*100/total_df['count']\n",
        "\n",
        "Area_code_churn['churn rate'] = churn_rate(Area_code_df,Area_code_churn)\n",
        "int_plan_churn['churn rate'] = churn_rate(int_plan_df,int_plan_churn)\n",
        "v_m_p_churn['churn rate'] = churn_rate(v_m_p_df,v_m_p_churn)"
      ],
      "metadata": {
        "id": "VWIc1W6c0MNP"
      },
      "execution_count": null,
      "outputs": []
    },
    {
      "cell_type": "code",
      "source": [
        "print(Area_code_churn)\n",
        "print(\"-\"*50)\n",
        "print(int_plan_churn)\n",
        "print(\"-\"*50)\n",
        "print(v_m_p_churn)"
      ],
      "metadata": {
        "id": "jgVfnAwK-jO9"
      },
      "execution_count": null,
      "outputs": []
    },
    {
      "cell_type": "code",
      "source": [
        "def bar_for_churn(df,col1,col2,col3,col4 = comp_churn_rate):\n",
        "  plt.style.use(\"fivethirtyeight\")\n",
        "  plt.figure(figsize= (5,3))\n",
        "  color_ = [ '#9D2417', '#AF41B4', '#003389' ,'#3C5F41',  '#967032', '#2734DE'] \n",
        "  rand_col = color_[random.sample(range(6), 1)[0]]\n",
        "  plt.bar(col1,df[col2],tick_label=df[col3], color = rand_col, fill = rand_col)\n",
        "  plt.axhline(col4,color = 'y', linestyle = '--',linewidth = 2,label='company churn rate')\n",
        "  plt.title(col3, color = 'black')\n",
        "  plt.ylabel(\" \")\n",
        "  plt.xlabel(\" \")\n",
        "  plt.tight_layout()\n",
        "  plt.show()"
      ],
      "metadata": {
        "id": "pZwOQa5jlCy6"
      },
      "execution_count": null,
      "outputs": []
    },
    {
      "cell_type": "code",
      "source": [
        "left_coordinates=[1,2,3]\n",
        "bar_for_churn(Area_code_churn,left_coordinates,'churn rate','Area code')\n",
        "left_coordinates1=[1,2]\n",
        "bar_for_churn(int_plan_churn,left_coordinates1,'churn rate','International plan')\n",
        "\n",
        "bar_for_churn(v_m_p_churn,left_coordinates1,'churn rate','Voice mail plan')"
      ],
      "metadata": {
        "id": "h-YH13DdlKA7"
      },
      "execution_count": null,
      "outputs": []
    },
    {
      "cell_type": "markdown",
      "source": [
        "since the states value having the total 51 unique values, Lets plot them seperately and calculate the maximum chrun rate"
      ],
      "metadata": {
        "id": "muew374m-gYI"
      }
    },
    {
      "cell_type": "code",
      "source": [
        "# for state catogory\n",
        "state_pop = count_cat_feature(df,col=\"State\")\n",
        "state_churn = count_cat_feature(data_churn,col=\"State\")\n",
        "state_churn['churn rate'] = churn_rate(state_pop,state_churn)"
      ],
      "metadata": {
        "id": "ocUHbqjZESGh"
      },
      "execution_count": null,
      "outputs": []
    },
    {
      "cell_type": "code",
      "source": [
        "plt.figure(figsize=(20,5))\n",
        "plt.plot(state_churn['State'],state_churn['churn rate'],\"y\")\n",
        "plt.axhline(comp_churn_rate,color = 'g', linestyle = '--',linewidth = 2,label='company churn rate')\n",
        "plt.xlabel(\"State\")\n",
        "plt.ylabel(\"churn rate\")\n",
        "plt.title(\"churn rate of states\")\n",
        "plt.show()"
      ],
      "metadata": {
        "id": "IKUR2TekRBl7"
      },
      "execution_count": null,
      "outputs": []
    },
    {
      "cell_type": "code",
      "source": [
        "print(\"maximum person belongs to state:\",state_pop['State'][state_pop['count']== max(state_pop['count'])])\n",
        "print(\"-\"*50)\n",
        "print(\"maximum person churns belongs to state:\",state_churn['State'][state_pop['count']== max(state_pop['count'])])\n",
        "print(\"-\"*50)\n",
        "print(\"maximum churn rate state:\",state_churn['State'][state_churn['churn rate']== max(state_churn['churn rate'])])"
      ],
      "metadata": {
        "id": "QLhwGEOtVwbP"
      },
      "execution_count": null,
      "outputs": []
    },
    {
      "cell_type": "markdown",
      "source": [
        "**Observation from cotegorical features**\n",
        "<br> -The maximum value of churn is observed from Area code 415 and the minimum value from Area code 408.\n",
        "<br> -The 346 person does not have international plans activated and 137 people have taken the international plans out of the total people who churn.\n",
        "<br> -The voice mail plan subscription was not taken by 403 and taken by 80 person.\n",
        "<br> - The maximum churn rate was observed for the customer who have taken the international plan subscriptions approximately 42.41%.\n",
        "<br> - maximum person belongs to state WV, maximum churn value is from NJ but maximum churn rate is from TX."
      ],
      "metadata": {
        "id": "RQLWpitdx6Kg"
      }
    },
    {
      "cell_type": "markdown",
      "source": [
        "**question-** what catogry is having churn rate is higher than the companies average churn rate?\n"
      ],
      "metadata": {
        "id": "444ieeTOuEuw"
      }
    },
    {
      "cell_type": "code",
      "source": [
        "print(\"Area code having the higher churn rate than the company average churn rate\")\n",
        "print(Area_code_churn[['Area code','churn rate']][Area_code_churn['churn rate'] >= comp_churn_rate])"
      ],
      "metadata": {
        "id": "XeI0_9KmuG3n"
      },
      "execution_count": null,
      "outputs": []
    },
    {
      "cell_type": "code",
      "source": [
        "print(\"International plan having the higher churn rate than the company average churn rate\")\n",
        "print(int_plan_churn[['International plan','churn rate']][int_plan_churn['churn rate'] >= comp_churn_rate])"
      ],
      "metadata": {
        "id": "lroyeCeGuG9o"
      },
      "execution_count": null,
      "outputs": []
    },
    {
      "cell_type": "code",
      "source": [
        "print(\"Voice mail plan having the higher churn rate than the company average churn rate\")\n",
        "print(v_m_p_churn[['Voice mail plan','churn rate']][v_m_p_churn['churn rate'] >= comp_churn_rate])"
      ],
      "metadata": {
        "id": "b6tlNwtKuHDP"
      },
      "execution_count": null,
      "outputs": []
    },
    {
      "cell_type": "code",
      "source": [
        "print(\"States having churn rate higher than the company churn rate\")\n",
        "print(state_churn[['State','churn rate']][state_churn['churn rate'] >= comp_churn_rate])"
      ],
      "metadata": {
        "id": "Pfx72zKLuHGc"
      },
      "execution_count": null,
      "outputs": []
    },
    {
      "cell_type": "code",
      "source": [
        "#create dataframe of numerical columns\n",
        "numerical_df1 = df._get_numeric_data()\n",
        "numerical_df1.head()"
      ],
      "metadata": {
        "id": "2jTFrHWvRYzZ"
      },
      "execution_count": null,
      "outputs": []
    },
    {
      "cell_type": "code",
      "source": [
        "#create for loop to print unique values in numerical columns\n",
        "for col in numerical_df1:\n",
        "  print(f'Unique values in numerical columns {col} are: {numerical_df1[col].unique()[:5]}')"
      ],
      "metadata": {
        "id": "PZdd0jYvTnhz"
      },
      "execution_count": null,
      "outputs": []
    },
    {
      "cell_type": "code",
      "source": [
        "#create heatmap of above correlation matrix \n",
        "plt.figure(figsize=(20,12))\n",
        "sns.heatmap(numerical_df1.corr(),annot=True,cmap='coolwarm')\n",
        "plt.xticks(fontsize=12)\n",
        "plt.yticks(fontsize=12)\n",
        "plt.title('Correlation heatmap');"
      ],
      "metadata": {
        "id": "xjTPFZT1oHnA"
      },
      "execution_count": null,
      "outputs": []
    },
    {
      "cell_type": "markdown",
      "source": [
        "**Inference**\n",
        "<br> -From correlation heatmap it can be seen that the correlation value of  \"Total day minutes\",\"Total day charges\",\"Customer service calls\" have higher value comparatively.\n",
        "<br> - \"Number Vmail messages\" and \"Total intl calls\" only have negative correlation.\n",
        "<br>- Total day minutes and Total day charge, Total night minutes and Total night charge, Total intl minutes and Total intl charge are highly correlated with each other have correlation coeffecient value equals to 1."
      ],
      "metadata": {
        "id": "UefO990Cha-F"
      }
    },
    {
      "cell_type": "markdown",
      "source": [
        "**question-** From correlation matrix the above \"Total day minutes\",\"Total day charges\",\"Customer service calls\" have higher correlation values, observe how there values vary catogorically?"
      ],
      "metadata": {
        "id": "BfSNUbqww1ud"
      }
    },
    {
      "cell_type": "code",
      "source": [
        "def describe_with_boxplot(data, col1):\n",
        "  sns.boxplot(data=data, x = \"Churn\", y = data[col1], hue = \"Churn\")\n",
        "  c_s_c_churn = data[col1][data['Churn']==True]\n",
        "  c_s_c_not = data[col1][data['Churn']==False]\n",
        "  print(\"describe with churn = True\")\n",
        "  print(c_s_c_churn.describe())\n",
        "  print(\"-\"*50)\n",
        "  print(\"describe with churn = False\")\n",
        "  print(c_s_c_not.describe())\n"
      ],
      "metadata": {
        "id": "QVMlzRccx3d4"
      },
      "execution_count": null,
      "outputs": []
    },
    {
      "cell_type": "markdown",
      "source": [
        "**Total day minutes**"
      ],
      "metadata": {
        "id": "q9nUCFbyyAm0"
      }
    },
    {
      "cell_type": "code",
      "source": [
        "describe_with_boxplot(df,'Total day minutes')"
      ],
      "metadata": {
        "id": "UGTJ38ACx8fc"
      },
      "execution_count": null,
      "outputs": []
    },
    {
      "cell_type": "markdown",
      "source": [
        "**Inference**\n",
        "<br> The median value for customer who churn is 217,and who do not churn is 177.\n",
        "<br> The total day minutes cunsumption value is higher for person who churns."
      ],
      "metadata": {
        "id": "UolWIdG9yNnB"
      }
    },
    {
      "cell_type": "markdown",
      "source": [
        "**Total day charge**"
      ],
      "metadata": {
        "id": "ilwLcCFtyT1B"
      }
    },
    {
      "cell_type": "code",
      "source": [
        "describe_with_boxplot(df,\"Total day charge\")"
      ],
      "metadata": {
        "id": "JrQeO1Uzx8iV"
      },
      "execution_count": null,
      "outputs": []
    },
    {
      "cell_type": "markdown",
      "source": [
        "**Inference**\n",
        "<br> The median value for customer who churn is 36,and who do not churn is 30 i.e. higher for person who churn."
      ],
      "metadata": {
        "id": "eEE8FAKeytiv"
      }
    },
    {
      "cell_type": "markdown",
      "source": [
        "**Customer service calls**"
      ],
      "metadata": {
        "id": "ZSDTRHqbyaIl"
      }
    },
    {
      "cell_type": "code",
      "source": [
        "describe_with_boxplot(df,\"Customer service calls\")"
      ],
      "metadata": {
        "id": "DNVjQap-x8lk"
      },
      "execution_count": null,
      "outputs": []
    },
    {
      "cell_type": "markdown",
      "source": [
        "**Inference**\n",
        "<br>  Approximately 25% of customer who churns make calls to customer service more than 4 times but who does not churn only 5 people have call more than 4 times.\n",
        "<br> the mean value is approximately twice than who does not churn. "
      ],
      "metadata": {
        "id": "7qFtyiGNyzwe"
      }
    },
    {
      "cell_type": "markdown",
      "source": [
        "# Taking Necessary Columns Only"
      ],
      "metadata": {
        "id": "gaMCn8D5hGS1"
      }
    },
    {
      "cell_type": "code",
      "source": [
        "# Fetch Columns\n",
        "new_df = df[['State','Account length', 'Area code','Number vmail messages', 'Total day minutes', 'Total day calls', 'Total day charge', 'Total eve minutes',\n",
        "             'Total eve calls', 'Total eve charge', 'Total night minutes', 'Total night calls', 'Total night charge', 'Total intl minutes', 'Total intl calls',\n",
        "             'Total intl charge', 'Customer service calls']]\n",
        "new_df.head(6)"
      ],
      "metadata": {
        "id": "UH6X5ht8hJHn"
      },
      "execution_count": null,
      "outputs": []
    },
    {
      "cell_type": "markdown",
      "source": [
        "#Find out total minutes spend in day ,evening and night by diff states resp. and plot a comparison graph accordingly.\n"
      ],
      "metadata": {
        "id": "G_O21HV1hVWN"
      }
    },
    {
      "cell_type": "code",
      "source": [
        "States=['KS','OH','NJ','AL','OK']\n",
        "Total_day_minutes=[265.1,161.6,243.4,299.4,166.7]\n",
        "Total_eve_minutes=[197.4,195.5,121.2,61.9,148.3]\n",
        "Total_night_minutes=[244.7,254.4,162.6,196.9,186.9]\n",
        "\n",
        "plt.plot(States,Total_day_minutes,label='Total Day minutes',marker='o')\n",
        "plt.plot(States,Total_eve_minutes,label='Total eve minutes',marker='o')\n",
        "plt.plot(States,Total_night_minutes,label='Total night minutes',marker='o')\n",
        "\n",
        "plt.xlabel('States')\n",
        "plt.ylabel('Minutes')\n",
        "plt.title('Total Minutes Comparison')\n",
        "plt.legend()\n",
        "plt.show()\n"
      ],
      "metadata": {
        "id": "P_xafC46hQNC"
      },
      "execution_count": null,
      "outputs": []
    },
    {
      "cell_type": "markdown",
      "source": [
        "From the above graph , we can infer that :\n",
        "\n",
        "*  Total minutes spent in a day for states OH and OK are in the range of 150 to 175 minutes while the same for state AL are maximum upto 300 minutes. \n",
        "\n",
        "*   If we check the same for evening , maximum time depleted is upto 200 minutes by the states KS and OH on the contrary with state AL who spends hardly less than 50 minutes.\n",
        "\n",
        "*  For Night time, all the states consumed estimated duration is in the range of 150 to 260 minutes.\n",
        "\n",
        "\n",
        "\n",
        "\n"
      ],
      "metadata": {
        "id": "waBDEsXxhnSP"
      }
    },
    {
      "cell_type": "markdown",
      "source": [
        "# Now lets check the scenerio about toatl day,evening and night calls"
      ],
      "metadata": {
        "id": "qlndySpCByUT"
      }
    },
    {
      "cell_type": "code",
      "source": [
        "States=['KS','OH','NJ','AL','OK']\n",
        "Total_day_calls=[110,123,114,113,98]\n",
        "Total_eve_calls=[99,103,110,122,101]\n",
        "Total_night_calls=[91,103,104,121,118]\n",
        "\n",
        "plt.plot(States,Total_day_calls,label='Total Day Calls',marker='o')\n",
        "plt.plot(States,Total_eve_calls,label='Total eve Calls',marker='o')\n",
        "plt.plot(States,Total_night_calls,label='Total night Calls',marker='o')\n",
        "\n",
        "plt.xlabel('States')\n",
        "plt.ylabel('Calls')\n",
        "plt.title('Total Calls Comparison')\n",
        "plt.legend()\n",
        "plt.show()\n"
      ],
      "metadata": {
        "id": "qguQci7D-_Ho"
      },
      "execution_count": null,
      "outputs": []
    },
    {
      "cell_type": "markdown",
      "source": [
        "From the plot above, we can predict the maximum calls done by state OH are in the day time.\n",
        "\n",
        "On the other hand, maximum calls done by state AL are in the evening and night time.\n",
        "\n",
        "In addition to this ,Customers in State KS prefers minimum nunmber of call in night time."
      ],
      "metadata": {
        "id": "Y0Kq7FJGHIxJ"
      }
    },
    {
      "cell_type": "markdown",
      "source": [
        "#What happens if we compare total charges at day ,evening and night, just give it a look..."
      ],
      "metadata": {
        "id": "kR4MM6w4I9PX"
      }
    },
    {
      "cell_type": "code",
      "source": [
        "States=['KS','OH','NJ','AL','OK']\n",
        "Total_day_charges=[45.07,27.47,41.38,28.34,37.98]\n",
        "Total_eve_charges=[16.78,16.62,10.30,12.61,18.75]\n",
        "Total_night_charges=[11.01,11.45,7.32,8.41,9.18]\n",
        "\n",
        "plt.plot(States,Total_day_charges,label='Total Day Charges',marker='o')\n",
        "plt.plot(States,Total_eve_charges,label='Total eve Charges',marker='o')\n",
        "plt.plot(States,Total_night_charges,label='Total night Charges',marker='o')\n",
        "\n",
        "plt.xlabel('States')\n",
        "plt.ylabel('Charges')\n",
        "plt.title('Total Charges Comparison')\n",
        "plt.legend()\n",
        "plt.show()\n"
      ],
      "metadata": {
        "id": "Y9zPyzPRAkAR"
      },
      "execution_count": null,
      "outputs": []
    },
    {
      "cell_type": "markdown",
      "source": [
        "From the above line graph, we can conclude that :\n",
        "\n",
        "The customers in the above states have to pay more charges if they wants to call in the day time.\n",
        "\n",
        "While if they choose to call in the night time, they have to pay minimum wage as comapred to day."
      ],
      "metadata": {
        "id": "KltFDhpNJxvw"
      }
    },
    {
      "cell_type": "markdown",
      "source": [
        "Similarly we can chart graphs differentiating total time spent on calls and their prescribed charges with respect to day, evening, night and international calls in various states.\n",
        "\n",
        "\n"
      ],
      "metadata": {
        "id": "3hGN8Km_iHct"
      }
    },
    {
      "cell_type": "code",
      "source": [
        "States=['KS','OH','NJ','OK','AL']\n",
        "Total_day_minutes=[265.1,161.6,243.4,166.7,223.4]\n",
        "Total_day_calls=[110,123,114,113,98]\n",
        "Total_day_charges=[45.07,27.47,41.38,28.34,37.98]\n",
        "\n",
        "plt.plot(States,Total_day_minutes,label='Total Day Minutes',marker='o')\n",
        "plt.plot(States,Total_day_calls,label='Total Day Calls',marker='o')\n",
        "plt.plot(States,Total_day_charges,label='Total Day Charges',marker='o')\n",
        "\n",
        "plt.xlabel('States')\n",
        "plt.ylabel('minutes,calls,charges')\n",
        "plt.title('Day Comparison')\n",
        "plt.legend()\n",
        "plt.show()\n"
      ],
      "metadata": {
        "id": "iwhFDgDJiQcO"
      },
      "execution_count": null,
      "outputs": []
    },
    {
      "cell_type": "code",
      "source": [
        "States=['KS','OH','NJ','OK','AL']\n",
        "Total_eve_minutes=[197.4,195.5,121.2,148.3,220.6]\n",
        "Total_eve_calls=[99,103,110,122,101]\n",
        "Total_eve_charges=[16.78,16.62,10.30,12.61,18.75]\n",
        "\n",
        "plt.plot(States,Total_eve_minutes,label='Total Eve Minutes',marker='o')\n",
        "plt.plot(States,Total_eve_calls,label='Total Eve Calls',marker='o')\n",
        "plt.plot(States,Total_eve_charges,label='Total Eve Charges',marker='o')\n",
        "\n",
        "plt.xlabel('States')\n",
        "plt.ylabel('minutes,calls,charges')\n",
        "plt.title('Eve Comparison')\n",
        "plt.legend()\n",
        "plt.show()"
      ],
      "metadata": {
        "id": "1_ReBJEliqwv"
      },
      "execution_count": null,
      "outputs": []
    },
    {
      "cell_type": "code",
      "source": [
        "States=['KS','OH','NJ','OK','AL']\n",
        "Total_night_minutes=[244.7,254.4,162.6,186.9,203.9]\n",
        "Total_night_calls=[91,103,104,121,118]\n",
        "Total_night_charges=[11.01,11.45,7.32,8.41,9.18]\n",
        "\n",
        "plt.plot(States,Total_night_minutes,label='Total Night Minutes',marker='o')\n",
        "plt.plot(States,Total_night_calls,label='Total Night Calls',marker='o')\n",
        "plt.plot(States,Total_night_charges,label='Total Night Charges',marker='o')\n",
        "\n",
        "plt.xlabel('States')\n",
        "plt.ylabel('minutes,calls,charges')\n",
        "plt.title('Night Comparison')\n",
        "plt.legend()\n",
        "plt.show()\n"
      ],
      "metadata": {
        "id": "pJwPIoRgi0DV"
      },
      "execution_count": null,
      "outputs": []
    },
    {
      "cell_type": "code",
      "source": [
        "States=['KS','OH','NJ','OK','AL']\n",
        "Total_intl_minutes=[10.0,13.7,12.2,10.1,6.3]\n",
        "Total_intl_calls=[3,3,5,3,6]\n",
        "Total_intl_charges=[2.70,3.70,3.29,2.73,1.70]\n",
        "\n",
        "plt.plot(States,Total_intl_minutes,label='Total Intl Minutes',marker='o')\n",
        "plt.plot(States,Total_intl_calls,label='Total Intl Calls',marker='o')\n",
        "plt.plot(States,Total_intl_charges,label='Total Intl Charges',marker='o')\n",
        "\n",
        "plt.xlabel('States')\n",
        "plt.ylabel('minutes,calls,charges')\n",
        "plt.title('Intl Comparison')\n",
        "plt.legend()\n",
        "plt.show()"
      ],
      "metadata": {
        "id": "X26UXTL9iaDP"
      },
      "execution_count": null,
      "outputs": []
    },
    {
      "cell_type": "markdown",
      "source": [
        "# comparing both night and day users"
      ],
      "metadata": {
        "id": "WdzW_QN5jWGO"
      }
    },
    {
      "cell_type": "code",
      "source": [
        "#Fetch The busiest  at night\n",
        "night_user = df.groupby(['State','Total night minutes','Total night calls'])['Total night charge'].max().reset_index()\n",
        "night_user = night_user.sort_values(by='Total night charge', ascending=False).head(10)\n",
        "night_user\n",
        "\n",
        "# Fetch The busiest  at day\n",
        "day_user = df.groupby(['State','Total day minutes','Total day calls'])['Total day charge'].max().reset_index()\n",
        "day_user = day_user.sort_values(by='Total day charge', ascending=False).head(10)\n",
        "day_user\n",
        "\n",
        "#create the bar graph\n",
        "state = night_user['State']\n",
        "charge = night_user['Total night charge']\n",
        "\n",
        "fig = plt.figure(figsize = (10, 5))\n",
        " \n",
        "# creating the bar plot\n",
        "plt.bar(state, charge, color ='purple',\n",
        "        width = 0.4)\n",
        " \n",
        "plt.xlabel(\"Name of the State\")\n",
        "plt.ylabel(\"Total night charge\")\n",
        "plt.title(\"Night Users\")\n",
        "plt.show()\n",
        "\n",
        "#create the bar graph\n",
        "state = day_user['State']\n",
        "charge = day_user['Total day charge']\n",
        "\n",
        "fig = plt.figure(figsize = (9, 5))\n",
        " \n",
        "# creating the bar plot\n",
        "plt.bar(state, charge, color ='orange',\n",
        "        width = 0.4)\n",
        " \n",
        "plt.xlabel(\"Name of the State\")\n",
        "plt.ylabel(\"Total day charge\")\n",
        "plt.title(\"Day Users\")\n",
        "plt.show()\n"
      ],
      "metadata": {
        "id": "76HJnp47jZIp"
      },
      "execution_count": null,
      "outputs": []
    },
    {
      "cell_type": "code",
      "source": [
        "# Fetch State with Total day charge\n",
        "hosts_state = df.groupby(['State'])['Total day charge'].max().reset_index()\n",
        "hosts_state.sort_values(by='Total day charge', ascending=False).head(5)\n",
        "\n",
        "  "
      ],
      "metadata": {
        "id": "xANuqOKpquoh"
      },
      "execution_count": null,
      "outputs": []
    },
    {
      "cell_type": "markdown",
      "source": [
        "**Total day minutes**"
      ],
      "metadata": {
        "id": "ZvP1-bJEs_IC"
      }
    },
    {
      "cell_type": "code",
      "source": [
        "#Plot the bar graph\n",
        "state = hosts_state['State']\n",
        "charge = hosts_state['Total day charge']\n",
        "\n",
        "fig = plt.figure(figsize = (20, 5))\n",
        " \n",
        "# creating the bar plot\n",
        "plt.bar(state, charge, color ='blue',\n",
        "        width = 0.6)\n",
        " \n",
        "plt.xlabel(\"state\")\n",
        "plt.ylabel(\"charge\")\n",
        "plt.title(\"State vs Total day charge\")\n",
        "plt.show()"
      ],
      "metadata": {
        "id": "guoMCb7xs78w"
      },
      "execution_count": null,
      "outputs": []
    },
    {
      "cell_type": "markdown",
      "source": [
        "### **Fetch State with Total eve charge**"
      ],
      "metadata": {
        "id": "0JMJXYINB9Wr"
      }
    },
    {
      "cell_type": "code",
      "source": [
        "# Fetch State with Total eve charge\n",
        "hosts_state = df.groupby(['State'])['Total eve charge'].max().reset_index()\n",
        "hosts_state.sort_values(by='Total eve charge', ascending=False).head(5)"
      ],
      "metadata": {
        "id": "mta4OvMc4miO"
      },
      "execution_count": null,
      "outputs": []
    },
    {
      "cell_type": "code",
      "source": [
        "#Plot the bar graph\n",
        "state = hosts_state['State']\n",
        "charge = hosts_state['Total eve charge']\n",
        "\n",
        "fig = plt.figure(figsize = (20, 5))\n",
        " \n",
        "# creating the bar plot\n",
        "plt.scatter(state, charge)\n",
        " \n",
        "plt.xlabel(\"state\")\n",
        "plt.ylabel(\"charge\")\n",
        "plt.title(\"State vs Total eve charge\")\n",
        "plt.show()"
      ],
      "metadata": {
        "id": "d4Qu1Xp1WBJo"
      },
      "execution_count": null,
      "outputs": []
    },
    {
      "cell_type": "markdown",
      "source": [
        "From the above scatter graph, we can anticipate that the total evening charges applicable on states IN and NC are maximmum, while for the states AR,LA,MA,MD and RI are comparetively higher than the average charges applicable bt other states.\n",
        "States CA,ME,NE and WA are paying minimal amount for the total evening charges."
      ],
      "metadata": {
        "id": "UF8xgcLH7Ola"
      }
    },
    {
      "cell_type": "markdown",
      "source": [
        "## **Cutomer who calls customer care and they Churn**"
      ],
      "metadata": {
        "id": "X0-DuQ2OBaxu"
      }
    },
    {
      "cell_type": "code",
      "source": [
        "# Create the Box Plot\n",
        "plt.style.use('classic')\n",
        "plt.figure(figsize=(10,5))\n",
        "plt.title(\"Customer service calls  vs. Churn \")\n",
        "sns.boxplot(data=df, x='Churn',y='Customer service calls',palette=\"muted\")\n",
        "plt.show()"
      ],
      "metadata": {
        "id": "LiU3X1D2Xfju"
      },
      "execution_count": null,
      "outputs": []
    },
    {
      "cell_type": "markdown",
      "source": [
        "The above observation Shows that customers are having problems with the services and they called customer care multiple times.<br>\n",
        "<br>Customer who called customer care 2 or more than 2 times have highest rate of churn.<br><br>\n",
        "customer called the customer care for resolving their problem but company failed to provide the appropriate services to the customers results in lose of customers."
      ],
      "metadata": {
        "id": "R8Qq2XsZYKFQ"
      }
    },
    {
      "cell_type": "markdown",
      "source": [
        "# **Check form which area is having Maximum customers**"
      ],
      "metadata": {
        "id": "S-rDpNZcZYhf"
      }
    },
    {
      "cell_type": "code",
      "source": [
        "#Create the Pie \n",
        "plt.figure(figsize=(7,7))\n",
        "plt.pie(df['Area code'].value_counts(),labels=df['Area code'].value_counts().keys(),autopct = '%0.1f%%')\n",
        "plt.title('Area code');"
      ],
      "metadata": {
        "id": "0A9Wl85_WbmD"
      },
      "execution_count": null,
      "outputs": []
    },
    {
      "cell_type": "markdown",
      "source": [
        "This Pie chart show that approx 50% of the total states comes under area code '415' and 25.2% of states comes under code '510' and reat 25.1% comes under area code '408'. <br>\n",
        "This seems that majority of the customers of the are from this Area code '415'.<br>\n",
        "<br>\n",
        "\n",
        "*   Majority_customers >> '415'<br>\n",
        "*   Minority_customers >> '408'"
      ],
      "metadata": {
        "id": "BPv627ybCNWS"
      }
    },
    {
      "cell_type": "markdown",
      "source": [
        "**summary**\n",
        "<br>Telecom industry faces a major problem that there customer do not stay with the company for too long i.e., they churn. The reason could be anything being the higher call prices or the poor customer services. To analyse one such problem using the above dataset on which we perfored exploratory data analysis."
      ],
      "metadata": {
        "id": "vf_r-EYH3y9J"
      }
    },
    {
      "cell_type": "markdown",
      "source": [
        "**Adarsh**\n",
        "<br> **Catogorical feature**\n",
        "The Churn rate of company is 16.94%.The catogories having churn rate higher than company churn rate are Area code (510, 408) ,customer having no voice mail plan activated.out of 51, 21 states have churn rate higher than the company churn rate.Customer having international plan have the highest churn rate among all the category explored which is 42.41 %.\n",
        "<br> **Numerical features**\n",
        "Total day minutes and Total day charges of person who churns are higher than who do not churn.more than 75% of people who churn have 0 vmail messages, Infact very few of them have vmail messages more than 0.\n",
        "Approximately 25% of people who churns calls customer service more than 4 times but only 5 people from the people who do not churn makes customer service calls more than 4 times. Also the mean value of customer service calls by people who churn is approximately twice than people who do not churn.Total day minutes and Total day charge, Total night minutes and Total night charge, Total intl minutes and Total intl charge are highly correlated with each other have correlation coeffecient value equals to 1 and there plot is linear. so they are directly proportional to each other."
      ],
      "metadata": {
        "id": "1m99CNoty-M3"
      }
    },
    {
      "cell_type": "markdown",
      "source": [
        "**Nikita**\n",
        "\n",
        "We have done analysis on dataset having 3333 rows and 20 columns.Churn column is the target variable.There are no null and duplicate values in the dataset.Churn values are maximum in the area with code 415 and minimum with 408.States named TX,MD and MI have maximum churn rate.\n",
        "customers having international plans, 137  out of the total 483 churns and 80 customers have voice mail plan subscription.Approximately 25% of customer who churns make calls to customer service more than 4 times but who does not churn only 5 people have call more than 4 times.\n",
        "the mean value is approximately twice than who does not churn.Total minutes, calls and charge comparison:\n",
        "Minutes : Total minutes spent in a day for states OH and OK are in the range of 150 to 175 minutes while the same for state AL are maximum upto 300 minutes.If we check the same for evening , maximum time depleted is upto 200 minutes by the states KS and OH on the contrary with state AL who spends hardly less than 50 minutes.\n",
        "For Night time, all the states consumed estimated duration is in the range of 150 to 260 minutes.\n",
        "Calls: From the plot above, we can predict the maximum calls done by state OH are in the day time.On the other hand, maximum calls done by state AL are in the evening and night time.In addition to this ,Customers in State KS prefers minimum nunmber of call in night time.\n",
        "Charges: The customers in the above states have to pay more charges if they wants to call in the day time.While if they choose to call in the night time, they have to pay minimum wage as comapred to day.\n",
        "Customer who called customer care 2 or more than 2 times have highest rate of churn.customer called the customer care for resolving their problem but company failed to provide the appropriate services to the customers results in lose of customers.Total customers who are not happy with the service and churned are 483 out of 3333 results in the churn rate of 16.94 % for the company.\n",
        "\n",
        "\n"
      ],
      "metadata": {
        "id": "sybEWQpYD0pu"
      }
    },
    {
      "cell_type": "markdown",
      "source": [
        "**Shobhit**\n",
        "\n",
        "\n",
        "Customers who calls customer care 2 or more than 2 times has the highest probability of terminating the services.Cutomers do day calls, evening calls, night calls and international calls also although international call are less.\n",
        "The mean value of customer service calls by people who churn is approximately twice than people who do not churn. Majority of the cutomers are from Area code '415'. From the total 2850 did not terminate their services and 483 customers terminate their servies. Cutomers prefer vmail plan only if they required not everyone is having that plan. \n",
        "Customer having international plan have the highest churn rate among all the category.\n",
        "people who churns calls customer service more than 4 times but only 5 people from the people who do not churn makes customer service calls more than 4 times.  Out of 3333 results 483 customer has churn value 'true', result in churn rate is 16.94 % for the company. The average number of customer service calls is 1.5628562856285628.\n",
        "\n",
        "\n",
        "\n",
        "\n"
      ],
      "metadata": {
        "id": "w1tmqbq8I7Yb"
      }
    },
    {
      "cell_type": "markdown",
      "source": [
        "**Conclusion**\n",
        "After performing the exploratory data analysis of the above dataset, the following observations were made:\n",
        "<br> •\tcategories having churn rate higher than company churn rate are Area code (510, 408), customer having no voice mail plan activated.\n",
        "<br>•\tout of 51, 21 states have churn rate higher than the company churn rate.\n",
        "<br>•\tCustomer having international plan have the highest churn rate among all the category explored which is 42.41 % i.e., customers having international plans, 137 out of the total 483 churns.\n",
        "<br>•\tStates named TX, MD and MI have maximum churn rate.\n",
        "<br>•\tTotal day minutes and Total day charges of person who churns are higher than who do not churn.\n",
        "<br>•\tmore than 75% of people who churn have 0 vmail messages, in fact very few of them have vmail messages more than 0.\n",
        "<br>•\tApproximately 25% of people who churns calls customer service more than 4 times but only 5 people from the people who do not churn makes customer service calls more than 4 times. Also, the mean value of customer service calls by people who churn is approximately twice than people who do not churn.\n",
        "<br>•\tTotal day minutes and Total day charge, Total night minutes and Total night charge, Total intl minutes and Total intl charge are highly correlated with each other have correlation coefficient value equals to 1 and their plot is linear. so, they are directly proportional to each other.\n",
        "<br>•\tTotal customers who are not happy with the service and churned are 483 out of 3333 results in the churn rate of 14.49 % for the company.\n"
      ],
      "metadata": {
        "id": "PalVOuX77avv"
      }
    },
    {
      "cell_type": "markdown",
      "source": [
        "**Some measures to reduction Churn rate**\n",
        "These are some conclusion or recommendations that we are arrived after studying the dataset.\n",
        "<br>•\tThe company needs to survey in the Area code 510,408 who have higher churn rate than company average to understand the problem and similar kind of survey can also be done for the states having churn rate higher than the company average churn rate.\n",
        "<br>•\tCompany needs to review their international plan because the customers subscribing to international plan have the highest churn rate observed of about 42.41%.\n",
        "<br>•\tCompany needs to relook their vmail messages plan.\n",
        "<br>•\tThe customer service of the company needs to be improved because it seems they are not able to solve the problem of users efficiently.\n",
        "\n",
        "\n",
        "\n",
        "\n",
        "\n",
        "\n",
        "\n",
        "\n",
        "\n",
        "\n",
        "\n",
        "\n",
        "\n",
        "\n",
        "\n",
        "\n",
        "\n",
        "\n",
        "\n"
      ],
      "metadata": {
        "id": "gDur6XCk7692"
      }
    }
  ]
}